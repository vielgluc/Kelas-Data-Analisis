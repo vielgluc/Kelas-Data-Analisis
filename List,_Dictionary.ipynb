{
  "nbformat": 4,
  "nbformat_minor": 0,
  "metadata": {
    "colab": {
      "name": "List, Dictionary",
      "provenance": [],
      "collapsed_sections": [],
      "authorship_tag": "ABX9TyNwWEfutGCXtlHDxHDfDHwR",
      "include_colab_link": true
    },
    "kernelspec": {
      "name": "python3",
      "display_name": "Python 3"
    },
    "language_info": {
      "name": "python"
    }
  },
  "cells": [
    {
      "cell_type": "markdown",
      "metadata": {
        "id": "view-in-github",
        "colab_type": "text"
      },
      "source": [
        "<a href=\"https://colab.research.google.com/github/vielgluc/Kelas-Data-Analisis/blob/master/List%2C_Dictionary.ipynb\" target=\"_parent\"><img src=\"https://colab.research.google.com/assets/colab-badge.svg\" alt=\"Open In Colab\"/></a>"
      ]
    },
    {
      "cell_type": "code",
      "execution_count": 9,
      "metadata": {
        "id": "7d_JYmKHSLtM"
      },
      "outputs": [],
      "source": [
        "# Membuat List\n",
        "list1 = [21, \"Pran\", 2.1, False]"
      ]
    },
    {
      "cell_type": "code",
      "source": [
        "print(list1)"
      ],
      "metadata": {
        "colab": {
          "base_uri": "https://localhost:8080/"
        },
        "id": "RQdVTDJ8S-b6",
        "outputId": "ce6e8e61-929b-44e4-af89-0de08f575bb1"
      },
      "execution_count": 3,
      "outputs": [
        {
          "output_type": "stream",
          "name": "stdout",
          "text": [
            "[21, 'Pran', 2, 1, False]\n"
          ]
        }
      ]
    },
    {
      "cell_type": "code",
      "source": [
        "# Mengakses List\n",
        "list1[2]"
      ],
      "metadata": {
        "colab": {
          "base_uri": "https://localhost:8080/"
        },
        "id": "UQCPhjSBTNL7",
        "outputId": "ee844997-52e4-491d-8d5c-8f94c6ba8534"
      },
      "execution_count": 4,
      "outputs": [
        {
          "output_type": "execute_result",
          "data": {
            "text/plain": [
              "2"
            ]
          },
          "metadata": {},
          "execution_count": 4
        }
      ]
    },
    {
      "cell_type": "code",
      "source": [
        "list1[1],[3]"
      ],
      "metadata": {
        "colab": {
          "base_uri": "https://localhost:8080/"
        },
        "id": "dZpDuDpgTrxe",
        "outputId": "bcf4b063-dc7b-48e9-8460-184da3ce38ae"
      },
      "execution_count": 5,
      "outputs": [
        {
          "output_type": "execute_result",
          "data": {
            "text/plain": [
              "('Pran', [3])"
            ]
          },
          "metadata": {},
          "execution_count": 5
        }
      ]
    },
    {
      "cell_type": "code",
      "source": [
        "print(list1[1:3])"
      ],
      "metadata": {
        "colab": {
          "base_uri": "https://localhost:8080/"
        },
        "id": "YdvXX5r_UEMI",
        "outputId": "3f3f2f12-1bba-4ed8-c49f-53213d13de6d"
      },
      "execution_count": 10,
      "outputs": [
        {
          "output_type": "stream",
          "name": "stdout",
          "text": [
            "['Pran', 2.1]\n"
          ]
        }
      ]
    },
    {
      "cell_type": "code",
      "source": [
        "list2 = [21, 24, 18, 17, 10, 8]"
      ],
      "metadata": {
        "id": "QWrKfPlDUPg4"
      },
      "execution_count": 11,
      "outputs": []
    },
    {
      "cell_type": "code",
      "source": [
        "list2.sort()\n",
        "print(list2)"
      ],
      "metadata": {
        "colab": {
          "base_uri": "https://localhost:8080/"
        },
        "id": "NdL0ONzHUo_p",
        "outputId": "beb6d0ef-103e-4ed2-ad54-e6aa48b5108c"
      },
      "execution_count": 14,
      "outputs": [
        {
          "output_type": "stream",
          "name": "stdout",
          "text": [
            "[8, 10, 17, 18, 21, 24]\n"
          ]
        }
      ]
    },
    {
      "cell_type": "code",
      "source": [
        "list2.reverse()\n",
        "print(list2)"
      ],
      "metadata": {
        "colab": {
          "base_uri": "https://localhost:8080/"
        },
        "id": "a40AScUSUyts",
        "outputId": "7762526e-9691-413c-d642-a59822921a53"
      },
      "execution_count": 15,
      "outputs": [
        {
          "output_type": "stream",
          "name": "stdout",
          "text": [
            "[24, 21, 18, 17, 10, 8]\n"
          ]
        }
      ]
    },
    {
      "cell_type": "code",
      "source": [
        "list3 = [\"Anas\", \"Abi\", \"Afif\", \"Aris\", \"Asa\"]\n",
        "print(list3)"
      ],
      "metadata": {
        "colab": {
          "base_uri": "https://localhost:8080/"
        },
        "id": "fsZGmiGbVDrv",
        "outputId": "922aaa3a-4d8e-4dc9-ed7c-7f455167daa0"
      },
      "execution_count": 22,
      "outputs": [
        {
          "output_type": "stream",
          "name": "stdout",
          "text": [
            "['Anas', 'Abi', 'Afif', 'Aris', 'Asa']\n"
          ]
        }
      ]
    },
    {
      "cell_type": "code",
      "source": [
        "list3.sort()\n",
        "print(list3)"
      ],
      "metadata": {
        "colab": {
          "base_uri": "https://localhost:8080/"
        },
        "id": "fvL9m-t4VXPx",
        "outputId": "c38d12d6-edf9-4338-c34d-c12e510d68f7"
      },
      "execution_count": 23,
      "outputs": [
        {
          "output_type": "stream",
          "name": "stdout",
          "text": [
            "['Abi', 'Afif', 'Anas', 'Aris', 'Asa']\n"
          ]
        }
      ]
    },
    {
      "cell_type": "code",
      "source": [
        "list2.sort()\n",
        "print(list2)"
      ],
      "metadata": {
        "colab": {
          "base_uri": "https://localhost:8080/"
        },
        "id": "tjzSfq70VnQ_",
        "outputId": "16c24ac0-f257-4f4c-898c-fd4bc3cfb44b"
      },
      "execution_count": 24,
      "outputs": [
        {
          "output_type": "stream",
          "name": "stdout",
          "text": [
            "[8, 10, 17, 18, 21, 24]\n"
          ]
        }
      ]
    },
    {
      "cell_type": "code",
      "source": [
        "print(list2)"
      ],
      "metadata": {
        "colab": {
          "base_uri": "https://localhost:8080/"
        },
        "id": "3ckfA0iQWS2J",
        "outputId": "976b6c6d-dc82-4db1-ca52-0264aec7872f"
      },
      "execution_count": 25,
      "outputs": [
        {
          "output_type": "stream",
          "name": "stdout",
          "text": [
            "[8, 10, 17, 18, 21, 24]\n"
          ]
        }
      ]
    },
    {
      "cell_type": "code",
      "source": [
        "print(list2)\n",
        "print(list3)"
      ],
      "metadata": {
        "colab": {
          "base_uri": "https://localhost:8080/"
        },
        "id": "9TVgWAu3WWWZ",
        "outputId": "08795cdf-6301-4a2f-a2dd-29671922d7d6"
      },
      "execution_count": 26,
      "outputs": [
        {
          "output_type": "stream",
          "name": "stdout",
          "text": [
            "[8, 10, 17, 18, 21, 24]\n",
            "['Abi', 'Afif', 'Anas', 'Aris', 'Asa']\n"
          ]
        }
      ]
    },
    {
      "cell_type": "code",
      "source": [
        "list2.append(30)\n",
        "print(list2)\n",
        "\n",
        "list3.append(\"Auri\")\n",
        "print(list3)"
      ],
      "metadata": {
        "colab": {
          "base_uri": "https://localhost:8080/"
        },
        "id": "Pj_DBnp8WZge",
        "outputId": "352c0bbe-0baf-4947-8af6-e5282af536ed"
      },
      "execution_count": 27,
      "outputs": [
        {
          "output_type": "stream",
          "name": "stdout",
          "text": [
            "[8, 10, 17, 18, 21, 24, 30]\n",
            "['Abi', 'Afif', 'Anas', 'Aris', 'Asa', 'Auri']\n"
          ]
        }
      ]
    },
    {
      "cell_type": "code",
      "source": [
        "nested = [2,3], [5,6], [8,9]\n",
        "print(nested)"
      ],
      "metadata": {
        "colab": {
          "base_uri": "https://localhost:8080/"
        },
        "id": "BHzFT1E6W6jB",
        "outputId": "79a2fc15-3c68-4831-cf2c-342fb6ef9b80"
      },
      "execution_count": 28,
      "outputs": [
        {
          "output_type": "stream",
          "name": "stdout",
          "text": [
            "([2, 3], [5, 6], [8, 9])\n"
          ]
        }
      ]
    },
    {
      "cell_type": "code",
      "source": [
        "print(nested[2])"
      ],
      "metadata": {
        "colab": {
          "base_uri": "https://localhost:8080/"
        },
        "id": "tSxbUUfNXI2r",
        "outputId": "8d34460c-ffdf-4a2b-ac4c-a760297c24d5"
      },
      "execution_count": 29,
      "outputs": [
        {
          "output_type": "stream",
          "name": "stdout",
          "text": [
            "[8, 9]\n"
          ]
        }
      ]
    },
    {
      "cell_type": "code",
      "source": [
        "print(nested[0][0])"
      ],
      "metadata": {
        "colab": {
          "base_uri": "https://localhost:8080/"
        },
        "id": "JPsHXdwCXMrR",
        "outputId": "b6de08fc-b3c0-4d91-ed0e-e7e861152746"
      },
      "execution_count": 33,
      "outputs": [
        {
          "output_type": "stream",
          "name": "stdout",
          "text": [
            "2\n"
          ]
        }
      ]
    },
    {
      "cell_type": "code",
      "source": [
        "# Mengubah Nilai dalam List\n",
        "\n",
        "list4 = [1, 2, 3, 4, 5, 6, 7]\n",
        "list4"
      ],
      "metadata": {
        "colab": {
          "base_uri": "https://localhost:8080/"
        },
        "id": "sPRUgHoVXX0j",
        "outputId": "89cc1066-8ab2-404b-b935-552089ce6485"
      },
      "execution_count": 36,
      "outputs": [
        {
          "output_type": "execute_result",
          "data": {
            "text/plain": [
              "[1, 2, 3, 4, 5, 6, 7]"
            ]
          },
          "metadata": {},
          "execution_count": 36
        }
      ]
    },
    {
      "cell_type": "code",
      "source": [
        "list4[3] = 8\n",
        "list4"
      ],
      "metadata": {
        "colab": {
          "base_uri": "https://localhost:8080/"
        },
        "id": "wb16sXxqYZ8L",
        "outputId": "afdbcf32-ea07-45b2-bbf4-4b87ae035a68"
      },
      "execution_count": 38,
      "outputs": [
        {
          "output_type": "execute_result",
          "data": {
            "text/plain": [
              "[1, 2, 3, 8, 5, 6, 7]"
            ]
          },
          "metadata": {},
          "execution_count": 38
        }
      ]
    },
    {
      "cell_type": "code",
      "source": [
        "list4[0:3]"
      ],
      "metadata": {
        "colab": {
          "base_uri": "https://localhost:8080/"
        },
        "id": "c_qrpnduYzbP",
        "outputId": "fb161eb9-2578-4538-8c7a-8b777b910dd0"
      },
      "execution_count": 41,
      "outputs": [
        {
          "output_type": "execute_result",
          "data": {
            "text/plain": [
              "[1, 2, 3]"
            ]
          },
          "metadata": {},
          "execution_count": 41
        }
      ]
    },
    {
      "cell_type": "code",
      "source": [
        "list4[0:3] = [8, 9, 10]\n",
        "list4"
      ],
      "metadata": {
        "colab": {
          "base_uri": "https://localhost:8080/"
        },
        "id": "T4ssm8uvZPFP",
        "outputId": "2a77b238-46eb-41d5-94df-8edbc622d8e4"
      },
      "execution_count": 43,
      "outputs": [
        {
          "output_type": "execute_result",
          "data": {
            "text/plain": [
              "[8, 9, 10, 8, 5, 6, 7]"
            ]
          },
          "metadata": {},
          "execution_count": 43
        }
      ]
    },
    {
      "cell_type": "code",
      "source": [
        "# Tuples"
      ],
      "metadata": {
        "id": "v_ao1W76Zvxk"
      },
      "execution_count": 44,
      "outputs": []
    },
    {
      "cell_type": "code",
      "source": [
        "t = (1, 2, 3)"
      ],
      "metadata": {
        "id": "6JkIhdLEbjHM"
      },
      "execution_count": 45,
      "outputs": []
    },
    {
      "cell_type": "code",
      "source": [
        "t"
      ],
      "metadata": {
        "colab": {
          "base_uri": "https://localhost:8080/"
        },
        "id": "hf6FDLXQbxmw",
        "outputId": "f90cead1-7075-4687-ae8f-1d0c6f1740b2"
      },
      "execution_count": 46,
      "outputs": [
        {
          "output_type": "execute_result",
          "data": {
            "text/plain": [
              "(1, 2, 3)"
            ]
          },
          "metadata": {},
          "execution_count": 46
        }
      ]
    },
    {
      "cell_type": "code",
      "source": [
        "len(t)"
      ],
      "metadata": {
        "colab": {
          "base_uri": "https://localhost:8080/"
        },
        "id": "RO2snNCMby-h",
        "outputId": "ff24b872-f170-4305-e2d1-cdda87694ea0"
      },
      "execution_count": 48,
      "outputs": [
        {
          "output_type": "execute_result",
          "data": {
            "text/plain": [
              "3"
            ]
          },
          "metadata": {},
          "execution_count": 48
        }
      ]
    },
    {
      "cell_type": "code",
      "source": [
        "t = ('merah', 'kuning', 'hijau', 'biru', 'kuning')"
      ],
      "metadata": {
        "id": "WquPPmGkb3JY"
      },
      "execution_count": 51,
      "outputs": []
    },
    {
      "cell_type": "code",
      "source": [
        "t"
      ],
      "metadata": {
        "colab": {
          "base_uri": "https://localhost:8080/"
        },
        "id": "VQLINzEFc1uh",
        "outputId": "a0decdc0-7b5a-46b2-f1f6-526860abfa03"
      },
      "execution_count": 50,
      "outputs": [
        {
          "output_type": "execute_result",
          "data": {
            "text/plain": [
              "('merah', 'kuning', 'hijau', 'biru')"
            ]
          },
          "metadata": {},
          "execution_count": 50
        }
      ]
    },
    {
      "cell_type": "code",
      "source": [
        "# Menghitung Urutan Variabel\n",
        "\n",
        "t.index('biru')"
      ],
      "metadata": {
        "colab": {
          "base_uri": "https://localhost:8080/"
        },
        "id": "6Tyvh-Ldc2rk",
        "outputId": "4ca4491d-004e-41ea-8956-3bedaebe63c6"
      },
      "execution_count": 58,
      "outputs": [
        {
          "output_type": "execute_result",
          "data": {
            "text/plain": [
              "3"
            ]
          },
          "metadata": {},
          "execution_count": 58
        }
      ]
    },
    {
      "cell_type": "code",
      "source": [
        "# Menghitung Jumlah Variabel\n",
        "\n",
        "t.count('kuning')"
      ],
      "metadata": {
        "colab": {
          "base_uri": "https://localhost:8080/"
        },
        "id": "cnfyTBEPdAfa",
        "outputId": "c3cbe4bd-0419-43cd-c293-26c23c20e428"
      },
      "execution_count": 55,
      "outputs": [
        {
          "output_type": "execute_result",
          "data": {
            "text/plain": [
              "2"
            ]
          },
          "metadata": {},
          "execution_count": 55
        }
      ]
    },
    {
      "cell_type": "code",
      "source": [
        "# Set and Boolean\n",
        "\n",
        "SetA = {\"Sleman\", \"Jogja\", \"Gunungkidul\", \"Kulonprogo\", \"Jogja\"}\n",
        "SetA\n"
      ],
      "metadata": {
        "colab": {
          "base_uri": "https://localhost:8080/"
        },
        "id": "QVRI_N8DdDk8",
        "outputId": "6bb0bd76-20af-41a9-f4ac-437e39ded7bb"
      },
      "execution_count": 59,
      "outputs": [
        {
          "output_type": "execute_result",
          "data": {
            "text/plain": [
              "{'Gunungkidul', 'Jogja', 'Kulonprogo', 'Sleman'}"
            ]
          },
          "metadata": {},
          "execution_count": 59
        }
      ]
    },
    {
      "cell_type": "code",
      "source": [
        "type(SetA)"
      ],
      "metadata": {
        "colab": {
          "base_uri": "https://localhost:8080/"
        },
        "id": "dxibihfufejl",
        "outputId": "863c0b75-75e9-448c-d54d-059c60f73ab9"
      },
      "execution_count": 60,
      "outputs": [
        {
          "output_type": "execute_result",
          "data": {
            "text/plain": [
              "set"
            ]
          },
          "metadata": {},
          "execution_count": 60
        }
      ]
    },
    {
      "cell_type": "code",
      "source": [
        "tim_diy = [\"Persiba\", \"PSS\", \"PSIM\", \"Persiwi\", \"PSIM\"]\n",
        "tim_diy"
      ],
      "metadata": {
        "colab": {
          "base_uri": "https://localhost:8080/"
        },
        "id": "g8y4UFEDf2YU",
        "outputId": "63ddad95-ea75-4b6e-9318-cc0e2b113f94"
      },
      "execution_count": 61,
      "outputs": [
        {
          "output_type": "execute_result",
          "data": {
            "text/plain": [
              "['Persiba', 'PSS', 'PSIM', 'Persiwi', 'PSIM']"
            ]
          },
          "metadata": {},
          "execution_count": 61
        }
      ]
    },
    {
      "cell_type": "code",
      "source": [
        "tim_diy = set(tim_diy)\n",
        "tim_diy"
      ],
      "metadata": {
        "colab": {
          "base_uri": "https://localhost:8080/"
        },
        "id": "dgahsdKvgcH-",
        "outputId": "f5a10a02-6dd6-4a40-aa5f-5c435814f049"
      },
      "execution_count": 63,
      "outputs": [
        {
          "output_type": "execute_result",
          "data": {
            "text/plain": [
              "{'PSIM', 'PSS', 'Persiba', 'Persiwi'}"
            ]
          },
          "metadata": {},
          "execution_count": 63
        }
      ]
    },
    {
      "cell_type": "code",
      "source": [
        "tim_diy.add(\"Persikud\")\n",
        "tim_diy"
      ],
      "metadata": {
        "colab": {
          "base_uri": "https://localhost:8080/"
        },
        "id": "LzJKVe3tgjHG",
        "outputId": "fb3834e5-2c61-431d-892d-ba8b587b6fa9"
      },
      "execution_count": 65,
      "outputs": [
        {
          "output_type": "execute_result",
          "data": {
            "text/plain": [
              "{'PSIM', 'PSS', 'Persiba', 'Persikud', 'Persiwi'}"
            ]
          },
          "metadata": {},
          "execution_count": 65
        }
      ]
    },
    {
      "cell_type": "code",
      "source": [
        "tim_diy.remove(\"Persikud\")"
      ],
      "metadata": {
        "colab": {
          "base_uri": "https://localhost:8080/",
          "height": 165
        },
        "id": "PC0yiHy2h9IZ",
        "outputId": "6008f19d-e275-43a2-96e2-e63bfc00044a"
      },
      "execution_count": 68,
      "outputs": [
        {
          "output_type": "error",
          "ename": "KeyError",
          "evalue": "ignored",
          "traceback": [
            "\u001b[0;31m---------------------------------------------------------------------------\u001b[0m",
            "\u001b[0;31mKeyError\u001b[0m                                  Traceback (most recent call last)",
            "\u001b[0;32m<ipython-input-68-519964c05888>\u001b[0m in \u001b[0;36m<module>\u001b[0;34m()\u001b[0m\n\u001b[0;32m----> 1\u001b[0;31m \u001b[0mtim_diy\u001b[0m\u001b[0;34m.\u001b[0m\u001b[0mremove\u001b[0m\u001b[0;34m(\u001b[0m\u001b[0;34m\"Persikud\"\u001b[0m\u001b[0;34m)\u001b[0m\u001b[0;34m\u001b[0m\u001b[0;34m\u001b[0m\u001b[0m\n\u001b[0m",
            "\u001b[0;31mKeyError\u001b[0m: 'Persikud'"
          ]
        }
      ]
    },
    {
      "cell_type": "code",
      "source": [
        "tim_diy"
      ],
      "metadata": {
        "colab": {
          "base_uri": "https://localhost:8080/"
        },
        "id": "Jywlg8H6iXOS",
        "outputId": "c5b66722-1bc1-42a2-f64b-6c6788185415"
      },
      "execution_count": 69,
      "outputs": [
        {
          "output_type": "execute_result",
          "data": {
            "text/plain": [
              "{'PSIM', 'PSS', 'Persiba', 'Persiwi'}"
            ]
          },
          "metadata": {},
          "execution_count": 69
        }
      ]
    },
    {
      "cell_type": "code",
      "source": [
        "\"Persikud\" in tim_diy"
      ],
      "metadata": {
        "colab": {
          "base_uri": "https://localhost:8080/"
        },
        "id": "YtSKnrXoizzv",
        "outputId": "38188e33-5f64-40d2-cf0b-e5d7e25c42c2"
      },
      "execution_count": 70,
      "outputs": [
        {
          "output_type": "execute_result",
          "data": {
            "text/plain": [
              "False"
            ]
          },
          "metadata": {},
          "execution_count": 70
        }
      ]
    },
    {
      "cell_type": "code",
      "source": [
        "\"PSIM\" in tim_diy"
      ],
      "metadata": {
        "colab": {
          "base_uri": "https://localhost:8080/"
        },
        "id": "39yGJ7PBi73G",
        "outputId": "5bab647c-edf9-466c-bdc7-8be2c7ed2300"
      },
      "execution_count": 71,
      "outputs": [
        {
          "output_type": "execute_result",
          "data": {
            "text/plain": [
              "True"
            ]
          },
          "metadata": {},
          "execution_count": 71
        }
      ]
    },
    {
      "cell_type": "code",
      "source": [
        "kode_pos = {\"Bojong\": 51156, \"Buaran\": 51171, \"Doro\": 51191, \"Kajen\": 51161, \"Kandangserang\": 51163, \"Karanganyar\": 51182, \"Karangdadap\": 51174, \"Tirto\": [51151, 51182], \"Wiradesa\": (51127, 51152), \"Wonopringgo\": \"WNP\"}\n",
        "kode_pos"
      ],
      "metadata": {
        "colab": {
          "base_uri": "https://localhost:8080/"
        },
        "id": "bzA52cZyi_0a",
        "outputId": "35ae8bc9-0ed0-4a54-8d73-50ed3274bd6e"
      },
      "execution_count": 76,
      "outputs": [
        {
          "output_type": "execute_result",
          "data": {
            "text/plain": [
              "{'Bojong': 51156,\n",
              " 'Buaran': 51171,\n",
              " 'Doro': 51191,\n",
              " 'Kajen': 51161,\n",
              " 'Kandangserang': 51163,\n",
              " 'Karanganyar': 51182,\n",
              " 'Karangdadap': 51174,\n",
              " 'Tirto': [51151, 51182],\n",
              " 'Wiradesa': (51127, 51152),\n",
              " 'Wonopringgo': 'WNP'}"
            ]
          },
          "metadata": {},
          "execution_count": 76
        }
      ]
    },
    {
      "cell_type": "code",
      "source": [
        "kode_pos[\"Wiradesa\"]"
      ],
      "metadata": {
        "colab": {
          "base_uri": "https://localhost:8080/"
        },
        "id": "qswWfU1LlWSK",
        "outputId": "4dc212a0-53a5-469c-d8e9-cfb87263faaa"
      },
      "execution_count": 80,
      "outputs": [
        {
          "output_type": "execute_result",
          "data": {
            "text/plain": [
              "(51127, 51152)"
            ]
          },
          "metadata": {},
          "execution_count": 80
        }
      ]
    },
    {
      "cell_type": "code",
      "source": [
        "kode_pos[\"Sragi\"] = 51155\n",
        "kode_pos"
      ],
      "metadata": {
        "colab": {
          "base_uri": "https://localhost:8080/"
        },
        "id": "O2_SHJ2qmwM4",
        "outputId": "90fb4b01-3676-43b4-e66a-0727f42e1776"
      },
      "execution_count": 85,
      "outputs": [
        {
          "output_type": "execute_result",
          "data": {
            "text/plain": [
              "{'Bojong': 51156,\n",
              " 'Buaran': 51171,\n",
              " 'Doro': 51191,\n",
              " 'Kajen': 51161,\n",
              " 'Kandangserang': 51163,\n",
              " 'Karanganyar': 51182,\n",
              " 'Karangdadap': 51174,\n",
              " 'Sragi': 51155,\n",
              " 'Srgai': [51155],\n",
              " 'Tirto': [51151, 51182],\n",
              " 'Wiradesa': (51127, 51152),\n",
              " 'Wonopringgo': 'WNP'}"
            ]
          },
          "metadata": {},
          "execution_count": 85
        }
      ]
    },
    {
      "cell_type": "code",
      "source": [
        "kode_pos.pop(\"Srgai\")"
      ],
      "metadata": {
        "colab": {
          "base_uri": "https://localhost:8080/"
        },
        "id": "rt5nm4bmpUnR",
        "outputId": "15f4d8c3-fe79-421b-e097-17793f21b949"
      },
      "execution_count": 90,
      "outputs": [
        {
          "output_type": "execute_result",
          "data": {
            "text/plain": [
              "[51155]"
            ]
          },
          "metadata": {},
          "execution_count": 90
        }
      ]
    },
    {
      "cell_type": "code",
      "source": [
        "kode_pos"
      ],
      "metadata": {
        "colab": {
          "base_uri": "https://localhost:8080/"
        },
        "id": "VpXFsVQSpfqp",
        "outputId": "12989c51-4b18-4252-b893-7d43855c5a7c"
      },
      "execution_count": 91,
      "outputs": [
        {
          "output_type": "execute_result",
          "data": {
            "text/plain": [
              "{'Bojong': 51156,\n",
              " 'Buaran': 51171,\n",
              " 'Doro': 51191,\n",
              " 'Kajen': 51161,\n",
              " 'Kandangserang': 51163,\n",
              " 'Karanganyar': 51182,\n",
              " 'Karangdadap': 51174,\n",
              " 'Sragi': 51155,\n",
              " 'Tirto': [51151, 51182],\n",
              " 'Wiradesa': (51127, 51152),\n",
              " 'Wonopringgo': 'WNP'}"
            ]
          },
          "metadata": {},
          "execution_count": 91
        }
      ]
    },
    {
      "cell_type": "code",
      "source": [
        "del(kode_pos[\"Karangdadap\"])\n",
        "kode_pos"
      ],
      "metadata": {
        "colab": {
          "base_uri": "https://localhost:8080/"
        },
        "id": "ii-Z5Om-pj-d",
        "outputId": "1235f130-ddb0-4f9c-86d0-2908b1d15b8b"
      },
      "execution_count": 93,
      "outputs": [
        {
          "output_type": "execute_result",
          "data": {
            "text/plain": [
              "{'Bojong': 51156,\n",
              " 'Buaran': 51171,\n",
              " 'Doro': 51191,\n",
              " 'Kajen': 51161,\n",
              " 'Kandangserang': 51163,\n",
              " 'Karanganyar': 51182,\n",
              " 'Sragi': 51155,\n",
              " 'Tirto': [51151, 51182],\n",
              " 'Wiradesa': (51127, 51152),\n",
              " 'Wonopringgo': 'WNP'}"
            ]
          },
          "metadata": {},
          "execution_count": 93
        }
      ]
    },
    {
      "cell_type": "code",
      "source": [
        "del(kode_pos[\"Tirto\"][0])"
      ],
      "metadata": {
        "id": "BNX6zktHp-L7"
      },
      "execution_count": 94,
      "outputs": []
    },
    {
      "cell_type": "code",
      "source": [
        "kode_pos"
      ],
      "metadata": {
        "colab": {
          "base_uri": "https://localhost:8080/"
        },
        "id": "No91jzNdqaGV",
        "outputId": "8c55ad4f-39dc-40a8-837c-b0dcd3eb21b5"
      },
      "execution_count": 95,
      "outputs": [
        {
          "output_type": "execute_result",
          "data": {
            "text/plain": [
              "{'Bojong': 51156,\n",
              " 'Buaran': 51171,\n",
              " 'Doro': 51191,\n",
              " 'Kajen': 51161,\n",
              " 'Kandangserang': 51163,\n",
              " 'Karanganyar': 51182,\n",
              " 'Sragi': 51155,\n",
              " 'Tirto': [51182],\n",
              " 'Wiradesa': (51127, 51152),\n",
              " 'Wonopringgo': 'WNP'}"
            ]
          },
          "metadata": {},
          "execution_count": 95
        }
      ]
    },
    {
      "cell_type": "code",
      "source": [
        "kode_pos.keys()"
      ],
      "metadata": {
        "colab": {
          "base_uri": "https://localhost:8080/"
        },
        "id": "Qm0huCe5qdba",
        "outputId": "d8d2980c-cdd6-4dfb-9b1a-650fec0bb6ae"
      },
      "execution_count": 96,
      "outputs": [
        {
          "output_type": "execute_result",
          "data": {
            "text/plain": [
              "dict_keys(['Bojong', 'Buaran', 'Doro', 'Kajen', 'Kandangserang', 'Karanganyar', 'Tirto', 'Wiradesa', 'Wonopringgo', 'Sragi'])"
            ]
          },
          "metadata": {},
          "execution_count": 96
        }
      ]
    },
    {
      "cell_type": "code",
      "source": [
        "kode_pos.values()"
      ],
      "metadata": {
        "colab": {
          "base_uri": "https://localhost:8080/"
        },
        "id": "DxEsJtMzsZE3",
        "outputId": "8a63ef92-3711-4039-e98c-9366e6b18282"
      },
      "execution_count": 97,
      "outputs": [
        {
          "output_type": "execute_result",
          "data": {
            "text/plain": [
              "dict_values([51156, 51171, 51191, 51161, 51163, 51182, [51182], (51127, 51152), 'WNP', 51155])"
            ]
          },
          "metadata": {},
          "execution_count": 97
        }
      ]
    },
    {
      "cell_type": "code",
      "source": [
        "kode_pos.items()"
      ],
      "metadata": {
        "colab": {
          "base_uri": "https://localhost:8080/"
        },
        "id": "RKozhZozsebS",
        "outputId": "48bda406-dc23-4b6d-e175-06a2a75feadc"
      },
      "execution_count": 98,
      "outputs": [
        {
          "output_type": "execute_result",
          "data": {
            "text/plain": [
              "dict_items([('Bojong', 51156), ('Buaran', 51171), ('Doro', 51191), ('Kajen', 51161), ('Kandangserang', 51163), ('Karanganyar', 51182), ('Tirto', [51182]), ('Wiradesa', (51127, 51152)), ('Wonopringgo', 'WNP'), ('Sragi', 51155)])"
            ]
          },
          "metadata": {},
          "execution_count": 98
        }
      ]
    },
    {
      "cell_type": "code",
      "source": [
        ""
      ],
      "metadata": {
        "id": "DnqXjbfTsl8C"
      },
      "execution_count": null,
      "outputs": []
    }
  ]
}